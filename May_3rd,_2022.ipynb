{
  "nbformat": 4,
  "nbformat_minor": 0,
  "metadata": {
    "colab": {
      "name": "May 3rd, 2022.ipynb",
      "provenance": [],
      "collapsed_sections": []
    },
    "kernelspec": {
      "name": "python3",
      "display_name": "Python 3"
    },
    "language_info": {
      "name": "python"
    }
  },
  "cells": [
    {
      "cell_type": "code",
      "execution_count": 1,
      "metadata": {
        "colab": {
          "base_uri": "https://localhost:8080/"
        },
        "id": "zwCsuFcZFWYt",
        "outputId": "820e5718-1d82-461a-e8a1-446008c2089c"
      },
      "outputs": [
        {
          "output_type": "stream",
          "name": "stderr",
          "text": [
            "/usr/local/lib/python3.7/dist-packages/statsmodels/tools/_testing.py:19: FutureWarning: pandas.util.testing is deprecated. Use the functions in the public API at pandas.testing instead.\n",
            "  import pandas.util.testing as tm\n"
          ]
        }
      ],
      "source": [
        "import pandas as pd\n",
        "import numpy as np\n",
        "import matplotlib.pyplot as plt\n",
        "import seaborn as sns\n",
        "from statsmodels.formula.api import ols, glm\n",
        "import numpy as np\n",
        "import statsmodels.api as sm\n",
        "from sklearn.metrics import classification_report, confusion_matrix, roc_curve, roc_auc_score, mean_squared_error, recall_score, precision_score\n",
        "from sklearn.model_selection import train_test_split, cross_val_score, KFold"
      ]
    },
    {
      "cell_type": "code",
      "source": [
        "# Data Import\n",
        "raw_data = pd.read_csv('/content/drive/MyDrive/student_math_grades.csv')\n",
        "raw_data.head(2)"
      ],
      "metadata": {
        "colab": {
          "base_uri": "https://localhost:8080/",
          "height": 141
        },
        "id": "9FvkuRy_FjCv",
        "outputId": "d31f02a2-2ac8-4bca-a24b-8dc25560694b"
      },
      "execution_count": 2,
      "outputs": [
        {
          "output_type": "execute_result",
          "data": {
            "text/plain": [
              "  school sex  age address famsize pstatus  medu  fedu     mjob     fjob  ...  \\\n",
              "0     GP   F   18       U     GT3       A     4     4  at_home  teacher  ...   \n",
              "1     GP   F   17       U     GT3       T     1     1  at_home    other  ...   \n",
              "\n",
              "  higher internet  famrel  freetime  goout dalc walc health absences grades  \n",
              "0    yes       no       4         3      4    1    1      3        6      6  \n",
              "1    yes      yes       5         3      3    1    1      3        4      6  \n",
              "\n",
              "[2 rows x 30 columns]"
            ],
            "text/html": [
              "\n",
              "  <div id=\"df-4ffc63cd-1071-4229-a850-ab895092e39a\">\n",
              "    <div class=\"colab-df-container\">\n",
              "      <div>\n",
              "<style scoped>\n",
              "    .dataframe tbody tr th:only-of-type {\n",
              "        vertical-align: middle;\n",
              "    }\n",
              "\n",
              "    .dataframe tbody tr th {\n",
              "        vertical-align: top;\n",
              "    }\n",
              "\n",
              "    .dataframe thead th {\n",
              "        text-align: right;\n",
              "    }\n",
              "</style>\n",
              "<table border=\"1\" class=\"dataframe\">\n",
              "  <thead>\n",
              "    <tr style=\"text-align: right;\">\n",
              "      <th></th>\n",
              "      <th>school</th>\n",
              "      <th>sex</th>\n",
              "      <th>age</th>\n",
              "      <th>address</th>\n",
              "      <th>famsize</th>\n",
              "      <th>pstatus</th>\n",
              "      <th>medu</th>\n",
              "      <th>fedu</th>\n",
              "      <th>mjob</th>\n",
              "      <th>fjob</th>\n",
              "      <th>...</th>\n",
              "      <th>higher</th>\n",
              "      <th>internet</th>\n",
              "      <th>famrel</th>\n",
              "      <th>freetime</th>\n",
              "      <th>goout</th>\n",
              "      <th>dalc</th>\n",
              "      <th>walc</th>\n",
              "      <th>health</th>\n",
              "      <th>absences</th>\n",
              "      <th>grades</th>\n",
              "    </tr>\n",
              "  </thead>\n",
              "  <tbody>\n",
              "    <tr>\n",
              "      <th>0</th>\n",
              "      <td>GP</td>\n",
              "      <td>F</td>\n",
              "      <td>18</td>\n",
              "      <td>U</td>\n",
              "      <td>GT3</td>\n",
              "      <td>A</td>\n",
              "      <td>4</td>\n",
              "      <td>4</td>\n",
              "      <td>at_home</td>\n",
              "      <td>teacher</td>\n",
              "      <td>...</td>\n",
              "      <td>yes</td>\n",
              "      <td>no</td>\n",
              "      <td>4</td>\n",
              "      <td>3</td>\n",
              "      <td>4</td>\n",
              "      <td>1</td>\n",
              "      <td>1</td>\n",
              "      <td>3</td>\n",
              "      <td>6</td>\n",
              "      <td>6</td>\n",
              "    </tr>\n",
              "    <tr>\n",
              "      <th>1</th>\n",
              "      <td>GP</td>\n",
              "      <td>F</td>\n",
              "      <td>17</td>\n",
              "      <td>U</td>\n",
              "      <td>GT3</td>\n",
              "      <td>T</td>\n",
              "      <td>1</td>\n",
              "      <td>1</td>\n",
              "      <td>at_home</td>\n",
              "      <td>other</td>\n",
              "      <td>...</td>\n",
              "      <td>yes</td>\n",
              "      <td>yes</td>\n",
              "      <td>5</td>\n",
              "      <td>3</td>\n",
              "      <td>3</td>\n",
              "      <td>1</td>\n",
              "      <td>1</td>\n",
              "      <td>3</td>\n",
              "      <td>4</td>\n",
              "      <td>6</td>\n",
              "    </tr>\n",
              "  </tbody>\n",
              "</table>\n",
              "<p>2 rows × 30 columns</p>\n",
              "</div>\n",
              "      <button class=\"colab-df-convert\" onclick=\"convertToInteractive('df-4ffc63cd-1071-4229-a850-ab895092e39a')\"\n",
              "              title=\"Convert this dataframe to an interactive table.\"\n",
              "              style=\"display:none;\">\n",
              "        \n",
              "  <svg xmlns=\"http://www.w3.org/2000/svg\" height=\"24px\"viewBox=\"0 0 24 24\"\n",
              "       width=\"24px\">\n",
              "    <path d=\"M0 0h24v24H0V0z\" fill=\"none\"/>\n",
              "    <path d=\"M18.56 5.44l.94 2.06.94-2.06 2.06-.94-2.06-.94-.94-2.06-.94 2.06-2.06.94zm-11 1L8.5 8.5l.94-2.06 2.06-.94-2.06-.94L8.5 2.5l-.94 2.06-2.06.94zm10 10l.94 2.06.94-2.06 2.06-.94-2.06-.94-.94-2.06-.94 2.06-2.06.94z\"/><path d=\"M17.41 7.96l-1.37-1.37c-.4-.4-.92-.59-1.43-.59-.52 0-1.04.2-1.43.59L10.3 9.45l-7.72 7.72c-.78.78-.78 2.05 0 2.83L4 21.41c.39.39.9.59 1.41.59.51 0 1.02-.2 1.41-.59l7.78-7.78 2.81-2.81c.8-.78.8-2.07 0-2.86zM5.41 20L4 18.59l7.72-7.72 1.47 1.35L5.41 20z\"/>\n",
              "  </svg>\n",
              "      </button>\n",
              "      \n",
              "  <style>\n",
              "    .colab-df-container {\n",
              "      display:flex;\n",
              "      flex-wrap:wrap;\n",
              "      gap: 12px;\n",
              "    }\n",
              "\n",
              "    .colab-df-convert {\n",
              "      background-color: #E8F0FE;\n",
              "      border: none;\n",
              "      border-radius: 50%;\n",
              "      cursor: pointer;\n",
              "      display: none;\n",
              "      fill: #1967D2;\n",
              "      height: 32px;\n",
              "      padding: 0 0 0 0;\n",
              "      width: 32px;\n",
              "    }\n",
              "\n",
              "    .colab-df-convert:hover {\n",
              "      background-color: #E2EBFA;\n",
              "      box-shadow: 0px 1px 2px rgba(60, 64, 67, 0.3), 0px 1px 3px 1px rgba(60, 64, 67, 0.15);\n",
              "      fill: #174EA6;\n",
              "    }\n",
              "\n",
              "    [theme=dark] .colab-df-convert {\n",
              "      background-color: #3B4455;\n",
              "      fill: #D2E3FC;\n",
              "    }\n",
              "\n",
              "    [theme=dark] .colab-df-convert:hover {\n",
              "      background-color: #434B5C;\n",
              "      box-shadow: 0px 1px 3px 1px rgba(0, 0, 0, 0.15);\n",
              "      filter: drop-shadow(0px 1px 2px rgba(0, 0, 0, 0.3));\n",
              "      fill: #FFFFFF;\n",
              "    }\n",
              "  </style>\n",
              "\n",
              "      <script>\n",
              "        const buttonEl =\n",
              "          document.querySelector('#df-4ffc63cd-1071-4229-a850-ab895092e39a button.colab-df-convert');\n",
              "        buttonEl.style.display =\n",
              "          google.colab.kernel.accessAllowed ? 'block' : 'none';\n",
              "\n",
              "        async function convertToInteractive(key) {\n",
              "          const element = document.querySelector('#df-4ffc63cd-1071-4229-a850-ab895092e39a');\n",
              "          const dataTable =\n",
              "            await google.colab.kernel.invokeFunction('convertToInteractive',\n",
              "                                                     [key], {});\n",
              "          if (!dataTable) return;\n",
              "\n",
              "          const docLinkHtml = 'Like what you see? Visit the ' +\n",
              "            '<a target=\"_blank\" href=https://colab.research.google.com/notebooks/data_table.ipynb>data table notebook</a>'\n",
              "            + ' to learn more about interactive tables.';\n",
              "          element.innerHTML = '';\n",
              "          dataTable['output_type'] = 'display_data';\n",
              "          await google.colab.output.renderOutput(dataTable, element);\n",
              "          const docLink = document.createElement('div');\n",
              "          docLink.innerHTML = docLinkHtml;\n",
              "          element.appendChild(docLink);\n",
              "        }\n",
              "      </script>\n",
              "    </div>\n",
              "  </div>\n",
              "  "
            ]
          },
          "metadata": {},
          "execution_count": 2
        }
      ]
    },
    {
      "cell_type": "code",
      "source": [
        "# Sanity Check\n",
        "print(\"Shape: \" + str(raw_data.shape))\n",
        "SC = []\n",
        "for i in raw_data.columns:\n",
        "  SC.append(raw_data[i].value_counts())\n",
        "print(SC)"
      ],
      "metadata": {
        "colab": {
          "base_uri": "https://localhost:8080/"
        },
        "id": "K6hro0YlFzmL",
        "outputId": "f8c23525-41ca-4e61-83b9-e587aa7c5aec"
      },
      "execution_count": 3,
      "outputs": [
        {
          "output_type": "stream",
          "name": "stdout",
          "text": [
            "Shape: (395, 30)\n",
            "[GP    349\n",
            "MS     46\n",
            "Name: school, dtype: int64, F    208\n",
            "M    187\n",
            "Name: sex, dtype: int64, 16    104\n",
            "17     98\n",
            "18     82\n",
            "15     82\n",
            "19     24\n",
            "20      3\n",
            "22      1\n",
            "21      1\n",
            "Name: age, dtype: int64, U    307\n",
            "R     88\n",
            "Name: address, dtype: int64, GT3    281\n",
            "LE3    114\n",
            "Name: famsize, dtype: int64, T    354\n",
            "A     41\n",
            "Name: pstatus, dtype: int64, 4    131\n",
            "2    103\n",
            "3     99\n",
            "1     59\n",
            "0      3\n",
            "Name: medu, dtype: int64, 2    115\n",
            "3    100\n",
            "4     96\n",
            "1     82\n",
            "0      2\n",
            "Name: fedu, dtype: int64, other       141\n",
            "services    103\n",
            "at_home      59\n",
            "teacher      58\n",
            "health       34\n",
            "Name: mjob, dtype: int64, other       217\n",
            "services    111\n",
            "teacher      29\n",
            "at_home      20\n",
            "health       18\n",
            "Name: fjob, dtype: int64, course        145\n",
            "home          109\n",
            "reputation    105\n",
            "other          36\n",
            "Name: reason, dtype: int64, mother    273\n",
            "father     90\n",
            "other      32\n",
            "Name: guardian, dtype: int64, 1    257\n",
            "2    107\n",
            "3     23\n",
            "4      8\n",
            "Name: traveltime, dtype: int64, 2    198\n",
            "1    105\n",
            "3     65\n",
            "4     27\n",
            "Name: studytime, dtype: int64, 0    312\n",
            "1     50\n",
            "2     17\n",
            "3     16\n",
            "Name: failures, dtype: int64, no     344\n",
            "yes     51\n",
            "Name: schoolsup, dtype: int64, yes    242\n",
            "no     153\n",
            "Name: famsup, dtype: int64, no     214\n",
            "yes    181\n",
            "Name: paid, dtype: int64, yes    201\n",
            "no     194\n",
            "Name: activities, dtype: int64, yes    314\n",
            "no      81\n",
            "Name: nursery, dtype: int64, yes    375\n",
            "no      20\n",
            "Name: higher, dtype: int64, yes    329\n",
            "no      66\n",
            "Name: internet, dtype: int64, 4    195\n",
            "5    106\n",
            "3     68\n",
            "2     18\n",
            "1      8\n",
            "Name: famrel, dtype: int64, 3    157\n",
            "4    115\n",
            "2     64\n",
            "5     40\n",
            "1     19\n",
            "Name: freetime, dtype: int64, 3    130\n",
            "2    103\n",
            "4     86\n",
            "5     53\n",
            "1     23\n",
            "Name: goout, dtype: int64, 1    276\n",
            "2     75\n",
            "3     26\n",
            "5      9\n",
            "4      9\n",
            "Name: dalc, dtype: int64, 1    151\n",
            "2     85\n",
            "3     80\n",
            "4     51\n",
            "5     28\n",
            "Name: walc, dtype: int64, 5    146\n",
            "3     91\n",
            "4     66\n",
            "1     47\n",
            "2     45\n",
            "Name: health, dtype: int64, 0     115\n",
            "2      65\n",
            "4      53\n",
            "6      31\n",
            "8      22\n",
            "10     17\n",
            "14     12\n",
            "12     12\n",
            "3       8\n",
            "16      7\n",
            "7       7\n",
            "5       5\n",
            "18      5\n",
            "20      4\n",
            "11      3\n",
            "9       3\n",
            "13      3\n",
            "15      3\n",
            "22      3\n",
            "1       3\n",
            "38      1\n",
            "30      1\n",
            "40      1\n",
            "23      1\n",
            "19      1\n",
            "28      1\n",
            "75      1\n",
            "21      1\n",
            "24      1\n",
            "56      1\n",
            "26      1\n",
            "54      1\n",
            "25      1\n",
            "17      1\n",
            "Name: absences, dtype: int64, 10    56\n",
            "11    47\n",
            "0     38\n",
            "15    33\n",
            "8     32\n",
            "13    31\n",
            "12    31\n",
            "9     28\n",
            "14    27\n",
            "16    16\n",
            "6     15\n",
            "18    12\n",
            "7      9\n",
            "5      7\n",
            "17     6\n",
            "19     5\n",
            "20     1\n",
            "4      1\n",
            "Name: grades, dtype: int64]\n"
          ]
        }
      ]
    },
    {
      "cell_type": "code",
      "source": [
        "# Data Cleaning\n",
        "raw_data['school'].replace({\"GP\":1, \"MS\":0}, inplace = True)\n",
        "raw_data['sex'].replace({\"M\":1, \"F\":0}, inplace = True)\n",
        "raw_data['address'].replace({\"U\":1, \"R\":0}, inplace = True)\n",
        "raw_data['famsize'].replace({\"LE3\":1, \"GT3\":0}, inplace = True)\n",
        "raw_data['pstatus'].replace({\"T\":1, \"A\":0}, inplace = True)\n",
        "raw_data['schoolsup'].replace({\"yes\":1, \"no\":0}, inplace = True)\n",
        "raw_data['famsup'].replace({\"yes\":1, \"no\":0}, inplace = True)\n",
        "raw_data['paid'].replace({\"yes\":1, \"no\":0}, inplace = True)\n",
        "raw_data['activities'].replace({\"yes\":1, \"no\":0}, inplace = True)\n",
        "raw_data['nursery'].replace({\"yes\":1, \"no\":0}, inplace = True)\n",
        "raw_data['higher'].replace({\"yes\":1, \"no\":0}, inplace = True)\n",
        "raw_data['internet'].replace({\"yes\":1, \"no\":0}, inplace = True)\n",
        "df = pd.concat([raw_data, pd.get_dummies(raw_data['mjob'], prefix = 'm', drop_first=True)], axis = 1)\n",
        "df = pd.concat([df, pd.get_dummies(raw_data['fjob'], prefix = 'f', drop_first=True)], axis = 1)\n",
        "df = pd.concat([df, pd.get_dummies(raw_data['reason'], prefix = 'reason', drop_first=True)], axis = 1)\n",
        "df = pd.concat([df, pd.get_dummies(raw_data['guardian'], prefix = 'guardian', drop_first=True)], axis = 1)\n",
        "df.drop(columns = ['mjob', 'fjob', 'reason', 'guardian'], inplace = True)"
      ],
      "metadata": {
        "id": "069ljgUSM29B"
      },
      "execution_count": 4,
      "outputs": []
    },
    {
      "cell_type": "markdown",
      "source": [
        "***Linear Reg - Backward Stepwise Regression***"
      ],
      "metadata": {
        "id": "JH2Xxm8tRpMk"
      }
    },
    {
      "cell_type": "code",
      "source": [
        "# Linear Reg - Backward Stepwise Regression.\n",
        "mod0 = ols('grades ~ medu + failures', data = df).fit()\n",
        "print(mod0.summary())"
      ],
      "metadata": {
        "colab": {
          "base_uri": "https://localhost:8080/"
        },
        "id": "p3xrA2STfPKL",
        "outputId": "9661972e-164e-4f87-ea13-d8e91f3b4a5a"
      },
      "execution_count": 5,
      "outputs": [
        {
          "output_type": "stream",
          "name": "stdout",
          "text": [
            "                            OLS Regression Results                            \n",
            "==============================================================================\n",
            "Dep. Variable:                 grades   R-squared:                       0.148\n",
            "Model:                            OLS   Adj. R-squared:                  0.144\n",
            "Method:                 Least Squares   F-statistic:                     34.13\n",
            "Date:                Fri, 06 May 2022   Prob (F-statistic):           2.16e-14\n",
            "Time:                        03:01:12   Log-Likelihood:                -1129.5\n",
            "No. Observations:                 395   AIC:                             2265.\n",
            "Df Residuals:                     392   BIC:                             2277.\n",
            "Df Model:                           2                                         \n",
            "Covariance Type:            nonrobust                                         \n",
            "==============================================================================\n",
            "                 coef    std err          t      P>|t|      [0.025      0.975]\n",
            "------------------------------------------------------------------------------\n",
            "Intercept      9.4821      0.621     15.267      0.000       8.261      10.703\n",
            "medu           0.5845      0.201      2.911      0.004       0.190       0.979\n",
            "failures      -2.0168      0.296     -6.824      0.000      -2.598      -1.436\n",
            "==============================================================================\n",
            "Omnibus:                       35.775   Durbin-Watson:                   2.001\n",
            "Prob(Omnibus):                  0.000   Jarque-Bera (JB):               42.955\n",
            "Skew:                          -0.760   Prob(JB):                     4.70e-10\n",
            "Kurtosis:                       3.545   Cond. No.                         9.63\n",
            "==============================================================================\n",
            "\n",
            "Warnings:\n",
            "[1] Standard Errors assume that the covariance matrix of the errors is correctly specified.\n"
          ]
        }
      ]
    },
    {
      "cell_type": "markdown",
      "source": [
        "Adj. R-squared: 0.144 is low in terms of Marketing, but ***acceptable*** in Sociology.\n",
        "\n",
        "**Falk and Miller (1992)** recommended that R2 values should be equal to or greater than 0.10 for the variance explained of a particular endogenous construct to be deemed adequate.\n",
        "**Cohen (1988)** suggested R2 values for endogenous latent variables are assessed as follows: 0.26 (substantial), 0.13 (moderate), 0.02 (weak). \n",
        "\n",
        "*The there’s only one variable having a negative impact on the outcome, “failures”, which means number of past class failures. It indicates that the number of past class failures causes final failure.*\n",
        "\n",
        "*Based on the model above, the there’s two variable having significant impact on the outcome, “medu” and “failures”.*\n",
        "\n",
        "*According to the attribute information, we know the mother's education is out of control. Therefore, the only way is decreasing the number of past class failures of students.*"
      ],
      "metadata": {
        "id": "4QepiYnFQjsN"
      }
    },
    {
      "cell_type": "markdown",
      "source": [
        "**OR% in Logistic Regressiona**"
      ],
      "metadata": {
        "id": "4ezfR4pL9X4K"
      }
    },
    {
      "cell_type": "code",
      "source": [
        "df['grades'].replace({20:1, 19:1, 18:1, 17:1, 16:1, 15:1, 14:1, 13:1, \n",
        "                              12:1, 11:1, 10:1, 9:1, 8:1, 7:1, 6:0, 5:1, 4:1,\n",
        "                              3:1, 2:1, 1:0}, inplace = True)\n",
        "df['grades'].head()"
      ],
      "metadata": {
        "colab": {
          "base_uri": "https://localhost:8080/"
        },
        "id": "7xXX85K0e93J",
        "outputId": "f8ac908e-b642-4b7c-e516-23985ed5c4fa"
      },
      "execution_count": 6,
      "outputs": [
        {
          "output_type": "execute_result",
          "data": {
            "text/plain": [
              "0    0\n",
              "1    0\n",
              "2    1\n",
              "3    1\n",
              "4    1\n",
              "Name: grades, dtype: int64"
            ]
          },
          "metadata": {},
          "execution_count": 6
        }
      ]
    },
    {
      "cell_type": "code",
      "source": [
        "y = df['grades'].values\n",
        "X = df.drop('grades', axis = 1).values"
      ],
      "metadata": {
        "id": "AinzfiuahiFD"
      },
      "execution_count": 7,
      "outputs": []
    },
    {
      "cell_type": "code",
      "source": [
        "X_train, X_test, y_train, y_test = train_test_split(X, y, test_size=0.25, random_state=42)"
      ],
      "metadata": {
        "id": "F_9Ssi_Ahddm"
      },
      "execution_count": 8,
      "outputs": []
    },
    {
      "cell_type": "code",
      "source": [
        "a = pd.DataFrame(X_train, columns = df.drop('grades', axis = 1).columns)\n",
        "b = pd.DataFrame(y_train, columns = ['grades'] )\n",
        "z = pd.concat([a,b], axis = 1)"
      ],
      "metadata": {
        "id": "hDmHfG0rlANa"
      },
      "execution_count": 9,
      "outputs": []
    },
    {
      "cell_type": "code",
      "source": [
        "mod1 = glm('grades ~ sex + failures + paid + absences',\n",
        "           family =sm.families.Binomial(), data = z).fit()\n",
        "print(mod1.summary())"
      ],
      "metadata": {
        "colab": {
          "base_uri": "https://localhost:8080/"
        },
        "id": "fEoIBRnUYyWM",
        "outputId": "b8b3d2a5-c4d7-4f85-9d5c-84ff9844de4b"
      },
      "execution_count": 43,
      "outputs": [
        {
          "output_type": "stream",
          "name": "stdout",
          "text": [
            "                 Generalized Linear Model Regression Results                  \n",
            "==============================================================================\n",
            "Dep. Variable:                 grades   No. Observations:                  296\n",
            "Model:                            GLM   Df Residuals:                      291\n",
            "Model Family:                Binomial   Df Model:                            4\n",
            "Link Function:                  logit   Scale:                          1.0000\n",
            "Method:                          IRLS   Log-Likelihood:                -87.335\n",
            "Date:                Fri, 06 May 2022   Deviance:                       174.67\n",
            "Time:                        03:03:36   Pearson chi2:                 2.58e+03\n",
            "No. Iterations:                     7                                         \n",
            "Covariance Type:            nonrobust                                         \n",
            "==============================================================================\n",
            "                 coef    std err          z      P>|z|      [0.025      0.975]\n",
            "------------------------------------------------------------------------------\n",
            "Intercept      0.4336      0.333      1.304      0.192      -0.218       1.085\n",
            "sex            1.2430      0.435      2.858      0.004       0.391       2.096\n",
            "failures      -0.6401      0.218     -2.930      0.003      -1.068      -0.212\n",
            "paid           1.4875      0.471      3.158      0.002       0.564       2.411\n",
            "absences       0.2245      0.062      3.640      0.000       0.104       0.345\n",
            "==============================================================================\n"
          ]
        }
      ]
    },
    {
      "cell_type": "code",
      "source": [
        "X_test = pd.DataFrame(X_test, columns = df.drop('grades', axis = 1).columns)"
      ],
      "metadata": {
        "id": "A7PyFIwmqul8"
      },
      "execution_count": 44,
      "outputs": []
    },
    {
      "cell_type": "code",
      "source": [
        "y_pred_probs = mod1.predict(X_test)"
      ],
      "metadata": {
        "id": "FlCbU0t5gwtl"
      },
      "execution_count": 45,
      "outputs": []
    },
    {
      "cell_type": "code",
      "source": [
        "fpr, tpr, thresholds = roc_curve(y_test, y_pred_probs)\n",
        "\n",
        "plt.plot([0, 1], [0, 1], 'k--')\n",
        "\n",
        "# Plot tpr against fpr\n",
        "plt.plot(fpr, tpr)\n",
        "plt.xlabel('False Positive Rate')\n",
        "plt.ylabel('True Positive Rate')\n",
        "plt.title('ROC Curve for Diabetes Prediction')\n",
        "plt.show()"
      ],
      "metadata": {
        "colab": {
          "base_uri": "https://localhost:8080/",
          "height": 295
        },
        "id": "Gp7dHRYVIRTh",
        "outputId": "5e5ca358-69b8-4b42-ea07-42c43fd25d8b"
      },
      "execution_count": 46,
      "outputs": [
        {
          "output_type": "display_data",
          "data": {
            "text/plain": [
              "<Figure size 432x288 with 1 Axes>"
            ],
            "image/png": "[encoded data removed]"
          },
          "metadata": {
            "needs_background": "light"
          }
        }
      ]
    },
    {
      "cell_type": "code",
      "source": [
        "print(roc_auc_score(y_test, y_pred_probs))"
      ],
      "metadata": {
        "colab": {
          "base_uri": "https://localhost:8080/"
        },
        "id": "us7AarzdInaG",
        "outputId": "fc15f52d-5c79-44b4-e5af-838dd80a3947"
      },
      "execution_count": 47,
      "outputs": [
        {
          "output_type": "stream",
          "name": "stdout",
          "text": [
            "0.6428571428571429\n"
          ]
        }
      ]
    },
    {
      "cell_type": "code",
      "source": [
        "def sensivity_specifity_cutoff(y_true, y_score):\n",
        "    '''Find data-driven cut-off for classification\n",
        "    \n",
        "    Cut-off is determied using Youden's index defined as sensitivity + specificity - 1.\n",
        "    \n",
        "    Parameters\n",
        "    ----------\n",
        "    \n",
        "    y_true : array, shape = [n_samples]\n",
        "        True binary labels.\n",
        "        \n",
        "    y_score : array, shape = [n_samples]\n",
        "        Target scores, can either be probability estimates of the positive class,\n",
        "        confidence values, or non-thresholded measure of decisions (as returned by\n",
        "        “decision_function” on some classifiers).\n",
        "        \n",
        "    References\n",
        "    ----------\n",
        "    \n",
        "    Ewald, B. (2006). Post hoc choice of cut points introduced bias to diagnostic research.\n",
        "    Journal of clinical epidemiology, 59(8), 798-801.\n",
        "    \n",
        "    Steyerberg, E.W., Van Calster, B., & Pencina, M.J. (2011). Performance measures for\n",
        "    prediction models and markers: evaluation of predictions and classifications.\n",
        "    Revista Espanola de Cardiologia (English Edition), 64(9), 788-794.\n",
        "    \n",
        "    Jiménez-Valverde, A., & Lobo, J.M. (2007). Threshold criteria for conversion of probability\n",
        "    of species presence to either–or presence–absence. Acta oecologica, 31(3), 361-369.\n",
        "    '''\n",
        "    fpr, tpr, thresholds = roc_curve(y_true, y_score)\n",
        "    idx = np.argmax(tpr - fpr)\n",
        "    return thresholds[idx]"
      ],
      "metadata": {
        "id": "XviVPvnmM8cs"
      },
      "execution_count": 48,
      "outputs": []
    },
    {
      "cell_type": "code",
      "source": [
        "th = sensivity_specifity_cutoff(y_test, y_pred_probs)"
      ],
      "metadata": {
        "id": "b0YST2bpNDh1"
      },
      "execution_count": 49,
      "outputs": []
    },
    {
      "cell_type": "code",
      "source": [
        "for i in range(len(y_pred_probs)):\n",
        "  if y_pred_probs[i] >= th:\n",
        "    y_pred_probs[i] = 1\n",
        "  else:\n",
        "    y_pred_probs[i] = 0"
      ],
      "metadata": {
        "id": "kT36Q4jFNO1S"
      },
      "execution_count": 50,
      "outputs": []
    },
    {
      "cell_type": "code",
      "source": [
        "yp = y_pred_probs.values.astype(\"int\")"
      ],
      "metadata": {
        "id": "6Wn5rIXCQg-g"
      },
      "execution_count": 51,
      "outputs": []
    },
    {
      "cell_type": "code",
      "source": [
        "print(confusion_matrix(y_test, yp))\n",
        "print(classification_report(y_test, yp))"
      ],
      "metadata": {
        "colab": {
          "base_uri": "https://localhost:8080/"
        },
        "id": "emNi-LaiMV70",
        "outputId": "9c68a4d1-1c2f-411c-c31c-c56ab4b72724"
      },
      "execution_count": 52,
      "outputs": [
        {
          "output_type": "stream",
          "name": "stdout",
          "text": [
            "[[10  5]\n",
            " [29 55]]\n",
            "              precision    recall  f1-score   support\n",
            "\n",
            "           0       0.26      0.67      0.37        15\n",
            "           1       0.92      0.65      0.76        84\n",
            "\n",
            "    accuracy                           0.66        99\n",
            "   macro avg       0.59      0.66      0.57        99\n",
            "weighted avg       0.82      0.66      0.70        99\n",
            "\n"
          ]
        }
      ]
    },
    {
      "cell_type": "code",
      "source": [
        "(np.exp(mod1.params)-1) * 100"
      ],
      "metadata": {
        "colab": {
          "base_uri": "https://localhost:8080/"
        },
        "id": "faiAznruTL-H",
        "outputId": "c32ce7ed-e36d-4eca-89a3-a9ac19264ff4"
      },
      "execution_count": 53,
      "outputs": [
        {
          "output_type": "execute_result",
          "data": {
            "text/plain": [
              "Intercept     54.274069\n",
              "sex          246.606200\n",
              "failures     -47.274549\n",
              "paid         342.606450\n",
              "absences      25.166074\n",
              "dtype: float64"
            ]
          },
          "metadata": {},
          "execution_count": 53
        }
      ]
    }
  ]
}